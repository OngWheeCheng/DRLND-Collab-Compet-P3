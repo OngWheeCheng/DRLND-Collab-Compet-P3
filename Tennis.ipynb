{
 "cells": [
  {
   "cell_type": "markdown",
   "metadata": {},
   "source": [
    "# Collaboration and Competition\n",
    "\n",
    "---\n",
    "\n",
    "In this notebook, you will learn how to use the Unity ML-Agents environment for the third project of the [Deep Reinforcement Learning Nanodegree](https://www.udacity.com/course/deep-reinforcement-learning-nanodegree--nd893) program.\n",
    "\n",
    "### 1. Start the Environment\n",
    "\n",
    "Run the next code cell to install a few packages.  This line will take a few minutes to run!"
   ]
  },
  {
   "cell_type": "code",
   "execution_count": 1,
   "metadata": {},
   "outputs": [
    {
     "name": "stdout",
     "output_type": "stream",
     "text": [
      "\u001b[31mtensorflow 1.7.1 has requirement numpy>=1.13.3, but you'll have numpy 1.12.1 which is incompatible.\u001b[0m\r\n",
      "\u001b[31mipython 6.5.0 has requirement prompt-toolkit<2.0.0,>=1.0.15, but you'll have prompt-toolkit 3.0.6 which is incompatible.\u001b[0m\r\n"
     ]
    }
   ],
   "source": [
    "!pip -q install ./python"
   ]
  },
  {
   "cell_type": "markdown",
   "metadata": {},
   "source": [
    "We begin by importing the necessary packages. If the code cell below returns an error, please revisit the project instructions to double-check that you have installed [Unity ML-Agents](https://github.com/Unity-Technologies/ml-agents/blob/master/docs/Installation.md) and [NumPy](https://numpy.org/)."
   ]
  },
  {
   "cell_type": "code",
   "execution_count": 2,
   "metadata": {},
   "outputs": [],
   "source": [
    "from unityagents import UnityEnvironment\n",
    "from collections import deque\n",
    "from maddpg_agent import Agent\n",
    "import numpy as np\n",
    "import time\n",
    "import torch"
   ]
  },
  {
   "cell_type": "markdown",
   "metadata": {},
   "source": [
    "Next, we will start the environment! Before running the code cell below, change the file_name parameter to match the location of the Unity environment that you downloaded.\n",
    "\n",
    "* **Mac**: \"path/to/Tennis.app\"\n",
    "* **Windows** (x86): \"path/to/Tennis_Windows_x86/Tennis.exe\"\n",
    "* **Windows** (x86_64): \"path/to/Tennis_Windows_x86_64/Tennis.exe\"\n",
    "* **Linux** (x86): \"path/to/Tennis_Linux/Tennis.x86\"\n",
    "* **Linux** (x86_64): \"path/to/Tennis_Linux/Tennis.x86_64\"\n",
    "* **Linux** (x86, headless): \"path/to/Tennis_Linux_NoVis/Tennis.x86\"\n",
    "* **Linux** (x86_64, headless): \"path/to/Tennis_Linux_NoVis/Tennis.x86_64\"\n",
    "\n",
    "For instance, if you are using a Mac, then you downloaded Tennis.app. If this file is in the same folder as the notebook, then the line below should appear as follows:\n",
    "\n",
    "env = UnityEnvironment(file_name=\"Tennis.app\")"
   ]
  },
  {
   "cell_type": "code",
   "execution_count": 3,
   "metadata": {},
   "outputs": [
    {
     "name": "stderr",
     "output_type": "stream",
     "text": [
      "INFO:unityagents:\n",
      "'Academy' started successfully!\n",
      "Unity Academy name: Academy\n",
      "        Number of Brains: 1\n",
      "        Number of External Brains : 1\n",
      "        Lesson number : 0\n",
      "        Reset Parameters :\n",
      "\t\t\n",
      "Unity brain name: TennisBrain\n",
      "        Number of Visual Observations (per agent): 0\n",
      "        Vector Observation space type: continuous\n",
      "        Vector Observation space size (per agent): 8\n",
      "        Number of stacked Vector Observation: 3\n",
      "        Vector Action space type: continuous\n",
      "        Vector Action space size (per agent): 2\n",
      "        Vector Action descriptions: , \n"
     ]
    }
   ],
   "source": [
    "env = UnityEnvironment(file_name=\"/data/Tennis_Linux_NoVis/Tennis\")"
   ]
  },
  {
   "cell_type": "markdown",
   "metadata": {},
   "source": [
    "Environments contain **_brains_** which are responsible for deciding the actions of their associated agents. Here we check for the first brain available, and set it as the default brain we will be controlling from Python."
   ]
  },
  {
   "cell_type": "code",
   "execution_count": 4,
   "metadata": {},
   "outputs": [],
   "source": [
    "# get the default brain\n",
    "brain_name = env.brain_names[0]\n",
    "brain = env.brains[brain_name]"
   ]
  },
  {
   "cell_type": "markdown",
   "metadata": {},
   "source": [
    "### 2. Examine the State and Action Spaces\n",
    "\n",
    "In this environment, two agents control rackets to bounce a ball over a net. If an agent hits the ball over the net, it receives a reward of +0.1. If an agent lets a ball hit the ground or hits the ball out of bounds, it receives a reward of -0.01. Thus, the goal of each agent is to keep the ball in play.\n",
    "\n",
    "The observation space consists of 8 variables corresponding to the position and velocity of the ball and racket. Two continuous actions are available, corresponding to movement toward (or away from) the net, and jumping.\n",
    "\n",
    "Run the code cell below to print some information about the environment."
   ]
  },
  {
   "cell_type": "code",
   "execution_count": 5,
   "metadata": {},
   "outputs": [
    {
     "name": "stdout",
     "output_type": "stream",
     "text": [
      "Number of agents: 2\n",
      "Size of each action: 2\n",
      "There are 2 agents. Each observes a state with length: 24\n",
      "The state for the first agent looks like: [ 0.          0.          0.          0.          0.          0.          0.\n",
      "  0.          0.          0.          0.          0.          0.          0.\n",
      "  0.          0.         -6.65278625 -1.5        -0.          0.\n",
      "  6.83172083  6.         -0.          0.        ]\n"
     ]
    }
   ],
   "source": [
    "# reset the environment\n",
    "env_info = env.reset(train_mode=True)[brain_name]\n",
    "\n",
    "# number of agents \n",
    "num_agents = len(env_info.agents)\n",
    "print('Number of agents:', num_agents)\n",
    "\n",
    "# size of each action\n",
    "action_size = brain.vector_action_space_size\n",
    "print('Size of each action:', action_size)\n",
    "\n",
    "# examine the state space \n",
    "states = env_info.vector_observations\n",
    "state_size = states.shape[1]\n",
    "print('There are {} agents. Each observes a state with length: {}'.format(states.shape[0], state_size))\n",
    "print('The state for the first agent looks like:', states[0])"
   ]
  },
  {
   "cell_type": "markdown",
   "metadata": {},
   "source": [
    "### 3. Take Random Actions in the Environment\n",
    "\n",
    "In the next code cell, you will learn how to use the Python API to control the agent and receive feedback from the environment.\n",
    "\n",
    "Note that **in this coding environment, you will not be able to watch the agents while they are training**, and you should set `train_mode=True` to restart the environment.\n",
    "\n",
    "Of course, as part of the project, you'll have to change the code so that the agents are able to use their experiences to gradually choose better actions when interacting with the environment!"
   ]
  },
  {
   "cell_type": "code",
   "execution_count": 6,
   "metadata": {},
   "outputs": [
    {
     "name": "stdout",
     "output_type": "stream",
     "text": [
      "Total score (averaged over agents) this episode: 0.04500000085681677\n",
      "Total score (averaged over agents) this episode: 0.04500000085681677\n",
      "Total score (averaged over agents) this episode: -0.004999999888241291\n",
      "Total score (averaged over agents) this episode: -0.004999999888241291\n",
      "Total score (averaged over agents) this episode: -0.004999999888241291\n"
     ]
    }
   ],
   "source": [
    "for i in range(5):                                         # play game for 5 episodes\n",
    "    env_info = env.reset(train_mode=False)[brain_name]     # reset the environment    \n",
    "    states = env_info.vector_observations                  # get the current state (for each agent)\n",
    "    scores = np.zeros(num_agents)                          # initialize the score (for each agent)\n",
    "    while True:\n",
    "        actions = np.random.randn(num_agents, action_size) # select an action (for each agent)\n",
    "        actions = np.clip(actions, -1, 1)                  # all actions between -1 and 1\n",
    "        env_info = env.step(actions)[brain_name]           # send all actions to tne environment\n",
    "        next_states = env_info.vector_observations         # get next state (for each agent)\n",
    "        rewards = env_info.rewards                         # get reward (for each agent)\n",
    "        dones = env_info.local_done                        # see if episode finished\n",
    "        scores += env_info.rewards                         # update the score (for each agent)\n",
    "        states = next_states                               # roll over states to next time step\n",
    "        if np.any(dones):                                  # exit loop if episode finished\n",
    "            break\n",
    "    print('Total score (averaged over agents) this episode: {}'.format(np.mean(scores)))"
   ]
  },
  {
   "cell_type": "markdown",
   "metadata": {},
   "source": [
    "### 4. It's Your Turn!\n",
    "\n",
    "Now it's your turn to train your own agent to solve the environment!  A few **important notes**:\n",
    "- When training the environment, set `train_mode=True`, so that the line for resetting the environment looks like the following:\n",
    "```python\n",
    "env_info = env.reset(train_mode=True)[brain_name]\n",
    "```\n",
    "- To structure your work, you're welcome to work directly in this Jupyter notebook, or you might like to start over with a new file!  You can see the list of files in the workspace by clicking on **_Jupyter_** in the top left corner of the notebook.\n",
    "- In this coding environment, you will not be able to watch the agents while they are training.  However, **_after training the agents_**, you can download the saved model weights to watch the agents on your own machine! "
   ]
  },
  {
   "cell_type": "code",
   "execution_count": 7,
   "metadata": {},
   "outputs": [],
   "source": [
    "# Multi-Agent Deep Deterministic Policy Gradient (DDPG)\n",
    "def maddpg(n_episodes=2000):\n",
    "    \"\"\"\n",
    "    Params\n",
    "    ======\n",
    "        n_episodes (int) : maximum number of training episodes\n",
    "        agents           : list of agents  \n",
    "    \"\"\"\n",
    "    max_scores = []                                 # list of maximum scores from each episode\n",
    "    best_score = -np.inf \n",
    "    scores_window = deque(maxlen=100)               # mean scores from most recent episodes\n",
    "    agents = []\n",
    "    for i in range(num_agents):\n",
    "         agents.append(Agent(state_size=state_size, action_size=action_size, random_seed=8))\n",
    "    \n",
    "    for i_episode in range(1, n_episodes+1):\n",
    "        env_info = env.reset(train_mode=True)[brain_name]       # reset environment\n",
    "        states = env_info.vector_observations                   # get current state for each agent      \n",
    "        scores = np.zeros(num_agents)                           # initialize score for each agent\n",
    "        for agent in agents:\n",
    "            agent.reset()\n",
    "        while True:\n",
    "            actions = []\n",
    "            for i in range(num_agents):\n",
    "                action = agents[i].act(state=states[i])\n",
    "                actions.append(action)\n",
    "            env_info = env.step(actions)[brain_name]           # send all actions to tne environment\n",
    "            next_states = env_info.vector_observations         # get next state (for each agent)\n",
    "            rewards = env_info.rewards                         # get reward (for each agent)\n",
    "            dones = env_info.local_done                        # see if episode finished\n",
    "            scores += np.max(rewards)                          # update the score (for each agent)\n",
    "            for i in range(num_agents):\n",
    "                agents[i].step(states[i], actions[i], rewards[i], next_states[i], dones[i])\n",
    "            states = next_states                               # roll over states to next time step\n",
    "            if np.any(dones):                                  # exit loop if episode finished\n",
    "                break\n",
    "\n",
    "        max_score = np.max(scores)\n",
    "        max_scores.append(max_score)                         # save maximum score for the episode\n",
    "        scores_window.append(max_scores[-1])                 # save maximum score to window\n",
    "        if max_scores[-1] > best_score:\n",
    "            best_score = max_scores[-1]\n",
    " \n",
    "        if i_episode % 25 == 0:\n",
    "            print('\\rEpisode {}: \\tAverage Score: {:.2f}\\tBest Score: {}'.format(\\\n",
    "                  i_episode, np.mean(scores_window), best_score))\n",
    "                  \n",
    "        if np.mean(scores_window) >= 0.5:\n",
    "            print('\\nEnvironment solved in {} episodes!\\tAverage Score = {:.2f} over last 100 episodes'.format(\\\n",
    "                                    i_episode, np.mean(scores_window)))\n",
    "            for i in range(num_agents):\n",
    "                torch.save(agents[i].actor_local.state_dict(), 'Result/actor{}.pth'.format(i+1))\n",
    "                torch.save(agents[i].critic_local.state_dict(), 'Result/critic{}.pth'.format(i+1))\n",
    "            break\n",
    "            \n",
    "    return max_scores"
   ]
  },
  {
   "cell_type": "code",
   "execution_count": 8,
   "metadata": {},
   "outputs": [
    {
     "name": "stdout",
     "output_type": "stream",
     "text": [
      "Episode 25: \tAverage Score: 0.00\tBest Score: 0.0\n",
      "Episode 50: \tAverage Score: 0.00\tBest Score: 0.0\n",
      "Episode 75: \tAverage Score: 0.01\tBest Score: 0.10000000149011612\n",
      "Episode 100: \tAverage Score: 0.02\tBest Score: 0.30000000447034836\n",
      "Episode 125: \tAverage Score: 0.03\tBest Score: 0.30000000447034836\n",
      "Episode 150: \tAverage Score: 0.05\tBest Score: 0.30000000447034836\n",
      "Episode 175: \tAverage Score: 0.05\tBest Score: 0.4000000059604645\n",
      "Episode 200: \tAverage Score: 0.06\tBest Score: 0.4000000059604645\n",
      "Episode 225: \tAverage Score: 0.07\tBest Score: 0.4000000059604645\n",
      "Episode 250: \tAverage Score: 0.07\tBest Score: 0.4000000059604645\n",
      "Episode 275: \tAverage Score: 0.07\tBest Score: 0.4000000059604645\n",
      "Episode 300: \tAverage Score: 0.07\tBest Score: 0.4000000059604645\n",
      "Episode 325: \tAverage Score: 0.07\tBest Score: 0.4000000059604645\n",
      "Episode 350: \tAverage Score: 0.07\tBest Score: 0.4000000059604645\n",
      "Episode 375: \tAverage Score: 0.09\tBest Score: 0.6000000089406967\n",
      "Episode 400: \tAverage Score: 0.12\tBest Score: 0.6000000089406967\n",
      "Episode 425: \tAverage Score: 0.13\tBest Score: 0.6000000089406967\n",
      "Episode 450: \tAverage Score: 0.15\tBest Score: 0.7000000104308128\n",
      "Episode 475: \tAverage Score: 0.17\tBest Score: 0.800000011920929\n",
      "Episode 500: \tAverage Score: 0.18\tBest Score: 0.800000011920929\n",
      "Episode 525: \tAverage Score: 0.21\tBest Score: 0.800000011920929\n",
      "Episode 550: \tAverage Score: 0.22\tBest Score: 0.800000011920929\n",
      "Episode 575: \tAverage Score: 0.22\tBest Score: 0.800000011920929\n",
      "Episode 600: \tAverage Score: 0.23\tBest Score: 0.800000011920929\n",
      "Episode 625: \tAverage Score: 0.24\tBest Score: 0.800000011920929\n",
      "Episode 650: \tAverage Score: 0.26\tBest Score: 1.1000000163912773\n",
      "Episode 675: \tAverage Score: 0.27\tBest Score: 1.1000000163912773\n",
      "Episode 700: \tAverage Score: 0.29\tBest Score: 1.1000000163912773\n",
      "Episode 725: \tAverage Score: 0.29\tBest Score: 1.1000000163912773\n",
      "Episode 750: \tAverage Score: 0.30\tBest Score: 1.1000000163912773\n",
      "Episode 775: \tAverage Score: 0.34\tBest Score: 1.3000000193715096\n",
      "Episode 800: \tAverage Score: 0.34\tBest Score: 1.3000000193715096\n",
      "Episode 825: \tAverage Score: 0.34\tBest Score: 1.3000000193715096\n",
      "Episode 850: \tAverage Score: 0.33\tBest Score: 1.3000000193715096\n",
      "Episode 875: \tAverage Score: 0.31\tBest Score: 1.3000000193715096\n",
      "Episode 900: \tAverage Score: 0.31\tBest Score: 1.3000000193715096\n",
      "Episode 925: \tAverage Score: 0.36\tBest Score: 1.3000000193715096\n",
      "Episode 950: \tAverage Score: 0.38\tBest Score: 1.3000000193715096\n",
      "Episode 975: \tAverage Score: 0.48\tBest Score: 3.300000049173832\n",
      "\n",
      "Environment solved in 984 episodes!\tAverage Score = 0.50 over last 100 episodes\n"
     ]
    }
   ],
   "source": [
    "# Train the agents\n",
    "scores = maddpg()"
   ]
  },
  {
   "cell_type": "code",
   "execution_count": 9,
   "metadata": {},
   "outputs": [
    {
     "data": {
      "image/png": "[encoded data removed]",
      "text/plain": [
       "<matplotlib.figure.Figure at 0x7f70f04ea358>"
      ]
     },
     "metadata": {
      "needs_background": "light"
     },
     "output_type": "display_data"
    }
   ],
   "source": [
    "# Plot the scores\n",
    "import matplotlib.pyplot as plt\n",
    "%matplotlib inline\n",
    "\n",
    "fig = plt.figure()\n",
    "ax = fig.add_subplot(111)\n",
    "plt.plot(np.arange(len(scores)), scores)\n",
    "plt.ylabel('Score')\n",
    "plt.xlabel('Episode #')\n",
    "plt.show()"
   ]
  },
  {
   "cell_type": "markdown",
   "metadata": {},
   "source": [
    "When finished, close the environment."
   ]
  },
  {
   "cell_type": "code",
   "execution_count": 10,
   "metadata": {},
   "outputs": [],
   "source": [
    "env.close()"
   ]
  }
 ],
 "metadata": {
  "kernelspec": {
   "display_name": "Python 3",
   "language": "python",
   "name": "python3"
  },
  "language_info": {
   "codemirror_mode": {
    "name": "ipython",
    "version": 3
   },
   "file_extension": ".py",
   "mimetype": "text/x-python",
   "name": "python",
   "nbconvert_exporter": "python",
   "pygments_lexer": "ipython3",
   "version": "3.6.3"
  }
 },
 "nbformat": 4,
 "nbformat_minor": 2
}
